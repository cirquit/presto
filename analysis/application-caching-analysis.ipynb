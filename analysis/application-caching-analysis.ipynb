{
 "cells": [
  {
   "cell_type": "markdown",
   "metadata": {},
   "source": [
    "# Application Level Caching Analysis\n",
    "\n",
    "### Prerequisites\n",
    "\n",
    "None. Exemplary logs are loaded by default. Experiments were run on:\n",
    "\n",
    "* Storage: CEPH HDDs\n",
    "* CPU: Intel Xeon E5-2630 v3 8x@2.4GHz\n",
    "* Image: ubuntu-18.04-lts/Openstack\n",
    "* Memory: 80GB DDR4\n",
    "\n",
    "All plots that are not saved with the `save_fig` function were not used in the paper, but may provide a close-up look on specific values.\n",
    "\n",
    "### Meta information\n",
    "\n",
    "* all pipelines are represented"
   ]
  },
  {
   "cell_type": "code",
   "execution_count": 1,
   "metadata": {},
   "outputs": [],
   "source": [
    "%load_ext autoreload\n",
    "%autoreload 2\n",
    "import re\n",
    "import numpy as np\n",
    "import pandas as pd\n",
    "import seaborn as sns\n",
    "import matplotlib.pylab as plt\n",
    "import matplotlib.patches as mpatches\n",
    "\n",
    "from matplotlib import ticker\n",
    "from typing import List\n",
    "# adding previous directory for easier use of library\n",
    "import sys\n",
    "sys.path.append('../')\n",
    "from notebookhelper import show_values_on_bars, show_values_on_catplot, save_figure, make_big_number_prettier \\\n",
    "                         , make_big_number_prettier_storage_mb\n",
    "\n",
    "from presto.analysis import StrategyAnalysis \\\n",
    "                       , strat_analysis_from_csv\n",
    "\n",
    "pd.set_option('display.max_rows', 200)\n",
    "plotting_context = \"paper\"\n",
    "default_palette = \"colorblind\"\n",
    "epoch_palette = sns.color_palette(\"YlOrRd\", 3)\n",
    "samples_palette = sns.color_palette(\"icefire\", 15)\n",
    "threads_palette = sns.color_palette(\"tab20\", 4)\n",
    "font_scale = 1.4\n",
    "sns.set(font_scale=font_scale, context=plotting_context)\n",
    "sns.set(rc={\"figure.dpi\":300, 'savefig.dpi':300})\n",
    "\n",
    "local_fig_dir = \"misc\"\n",
    "\n",
    "def save_fig(name, file_type='pdf'):\n",
    "    save_figure(name, local_fig_dir=local_fig_dir, file_type=file_type)\n",
    "    \n",
    "def print_stats(cum_df, original_sps, caching_sps):\n",
    "    \n",
    "    new_sps = cum_df.describe()[\"throughput_sps\"].iloc[1]\n",
    "    new_sps_std = cum_df.describe()[\"throughput_sps\"].iloc[2]\n",
    "    sample_size = cum_df.describe()[\"shard_cum_size_MB\"].iloc[1] / cum_df.sample_count.unique()[0]\n",
    "    org_speedup = new_sps / original_sps\n",
    "    org_to_sys_speedup = caching_sps / original_sps\n",
    "    sys_speedup = new_sps / caching_sps\n",
    "    print(\"---- \")\n",
    "    print(f\"  - sample size: {round(sample_size,2)}MB\")\n",
    "    print(f\"  - original throughput:     {original_sps}\")\n",
    "    print(f\"  - sys. caching throughput: {caching_sps}\")\n",
    "    print(f\"  - app. caching throughput: {round(new_sps,1)} (+/- {round(new_sps_std,1)})\")\n",
    "    print(f\"  - org. to app. cache speedup:   {round(org_speedup,2)}x\")\n",
    "    print(f\"  - org. to sys. cache speedup:   {round(org_to_sys_speedup,2)}x\")\n",
    "    "
   ]
  },
  {
   "cell_type": "markdown",
   "metadata": {},
   "source": [
    "## 1. CV - Segfault because of OOM"
   ]
  },
  {
   "cell_type": "markdown",
   "metadata": {},
   "source": [
    "## 2. CV2-JPG"
   ]
  },
  {
   "cell_type": "code",
   "execution_count": 2,
   "metadata": {
    "scrolled": true
   },
   "outputs": [
    {
     "name": "stdout",
     "output_type": "stream",
     "text": [
      "['5-center-pixel-values']\n",
      "---- \n",
      "  - sample size: 1.18MB\n",
      "  - original throughput:     643\n",
      "  - sys. caching throughput: 2147\n",
      "  - app. caching throughput: 9766.4 (+/- 1193.6)\n",
      "  - org. to app. cache speedup:   15.19x\n",
      "  - org. to sys. cache speedup:   3.34x\n"
     ]
    }
   ],
   "source": [
    "home_path = \"../logs/final-logs/cubeplusplus/jpg/application-caching\"\n",
    "path_to_cum_df = f\"{home_path}/cubeplusplus-JPG-application-cache_2021-10-20-21:34:07_cum-df_samples-4890_threads-8-full.csv\"\n",
    "path_to_cum_dstat_df = f\"{home_path}/cubeplusplus-JPG-application-cache_2021-10-20-21:34:07_cum-dstat-df_samples-4890_threads-8-full.csv\"\n",
    "\n",
    "analysis = strat_analysis_from_csv(path_to_cum_dstat_df = path_to_cum_dstat_df\n",
    "                                   , path_to_cum_df = path_to_cum_df)\n",
    "cum_dstat_df = analysis.to_cum_dstat_df()\n",
    "cum_df       = analysis.to_cum_df()\n",
    "strategies   = list(cum_df.split_name.unique())\n",
    "print(strategies)\n",
    "print_stats(cum_df = cum_df, original_sps = 643, caching_sps = 2147)"
   ]
  },
  {
   "cell_type": "markdown",
   "metadata": {},
   "source": [
    "## 3. CV2-PNG"
   ]
  },
  {
   "cell_type": "code",
   "execution_count": 3,
   "metadata": {},
   "outputs": [
    {
     "name": "stdout",
     "output_type": "stream",
     "text": [
      "['5-center-pixel-values']\n",
      "---- \n",
      "  - sample size: 1.18MB\n",
      "  - original throughput:     631\n",
      "  - sys. caching throughput: 2201\n",
      "  - app. caching throughput: 9148.2 (+/- 1110.8)\n",
      "  - org. to app. cache speedup:   14.5x\n",
      "  - org. to sys. cache speedup:   3.49x\n"
     ]
    }
   ],
   "source": [
    "home_path = \"../logs/final-logs/cubeplusplus/png/application-caching\"\n",
    "path_to_cum_df = f\"{home_path}/cubeplusplus-PNG-application-cache_2021-10-20-21:43:37_cum-df_samples-4890_threads-8-full.csv\"\n",
    "path_to_cum_dstat_df = f\"{home_path}/cubeplusplus-PNG-application-cache_2021-10-20-21:43:37_cum-dstat-df_samples-4890_threads-8-full.csv\"\n",
    "\n",
    "analysis = strat_analysis_from_csv(path_to_cum_dstat_df = path_to_cum_dstat_df\n",
    "                                   , path_to_cum_df = path_to_cum_df)\n",
    "cum_dstat_df = analysis.to_cum_dstat_df()\n",
    "cum_df       = analysis.to_cum_df()\n",
    "strategies   = list(cum_df.split_name.unique())\n",
    "print(strategies)\n",
    "print_stats(cum_df = cum_df, original_sps = 631, caching_sps = 2201)"
   ]
  },
  {
   "cell_type": "markdown",
   "metadata": {},
   "source": [
    "## 4. NLP - Segfault because of OOM"
   ]
  },
  {
   "cell_type": "markdown",
   "metadata": {},
   "source": [
    "## 5. NILM"
   ]
  },
  {
   "cell_type": "code",
   "execution_count": 4,
   "metadata": {},
   "outputs": [
    {
     "name": "stdout",
     "output_type": "stream",
     "text": [
      "['3-active-power-+-rms-current-+-cumsum-rms-current']\n",
      "---- \n",
      "  - sample size: 0.01MB\n",
      "  - original throughput:     9053\n",
      "  - sys. caching throughput: 9957\n",
      "  - app. caching throughput: 12403.9 (+/- 621.3)\n",
      "  - org. to app. cache speedup:   1.37x\n",
      "  - org. to sys. cache speedup:   1.1x\n"
     ]
    }
   ],
   "source": [
    "home_path = \"../logs/final-logs/cream/application-caching\"\n",
    "path_to_cum_df = f\"{home_path}/cream-application-cache_2021-10-20-21:55:42_cum-df_samples-267840_threads-8-full.csv\"\n",
    "path_to_cum_dstat_df = f\"{home_path}/cream-application-cache_2021-10-20-21:55:42_cum-dstat-df_samples-267840_threads-8-full.csv\"\n",
    "\n",
    "analysis = strat_analysis_from_csv(path_to_cum_dstat_df = path_to_cum_dstat_df\n",
    "                                   , path_to_cum_df = path_to_cum_df)\n",
    "cum_dstat_df = analysis.to_cum_dstat_df()\n",
    "cum_df       = analysis.to_cum_df()\n",
    "strategies   = list(cum_df.split_name.unique())\n",
    "print(strategies)\n",
    "print_stats(cum_df = cum_df, original_sps = 9053, caching_sps = 9957)"
   ]
  },
  {
   "cell_type": "markdown",
   "metadata": {},
   "source": [
    "## 6. Commonvoice"
   ]
  },
  {
   "cell_type": "code",
   "execution_count": 5,
   "metadata": {},
   "outputs": [
    {
     "name": "stdout",
     "output_type": "stream",
     "text": [
      "['3-convert-to-spectrogram']\n",
      "---- \n",
      "  - sample size: 0.08MB\n",
      "  - original throughput:     5229\n",
      "  - sys. caching throughput: 8429\n",
      "  - app. caching throughput: 11373.3 (+/- 173.4)\n",
      "  - org. to app. cache speedup:   2.18x\n",
      "  - org. to sys. cache speedup:   1.61x\n"
     ]
    }
   ],
   "source": [
    "home_path = \"../logs/final-logs/commonvoice/application-caching\"\n",
    "path_to_cum_df = f\"{home_path}/commonvoice-application-cache_2021-10-20-20:52:51_cum-df_samples-12717_threads-8-full.csv\"\n",
    "path_to_cum_dstat_df = f\"{home_path}/commonvoice-application-cache_2021-10-20-20:52:51_cum-dstat-df_samples-12717_threads-8-full.csv\"\n",
    "\n",
    "analysis = strat_analysis_from_csv(path_to_cum_dstat_df = path_to_cum_dstat_df\n",
    "                                   , path_to_cum_df = path_to_cum_df)\n",
    "cum_dstat_df = analysis.to_cum_dstat_df()\n",
    "cum_df       = analysis.to_cum_df()\n",
    "strategies   = list(cum_df.split_name.unique())\n",
    "print(strategies)\n",
    "print_stats(cum_df = cum_df, original_sps = 5229, caching_sps = 8429)"
   ]
  },
  {
   "cell_type": "markdown",
   "metadata": {},
   "source": [
    "## 7. Librispeech"
   ]
  },
  {
   "cell_type": "code",
   "execution_count": 6,
   "metadata": {
    "scrolled": true
   },
   "outputs": [
    {
     "name": "stdout",
     "output_type": "stream",
     "text": [
      "['3-convert-to-spectrogram']\n",
      "---- \n",
      "  - sample size: 0.41MB\n",
      "  - original throughput:     1436\n",
      "  - sys. caching throughput: 6021\n",
      "  - app. caching throughput: 11544.5 (+/- 407.0)\n",
      "  - org. to app. cache speedup:   8.04x\n",
      "  - org. to sys. cache speedup:   4.19x\n"
     ]
    }
   ],
   "source": [
    "home_path = \"../logs/final-logs/librispeech/application-caching\"\n",
    "path_to_cum_df = f\"{home_path}/librispeech-application-cache_2021-10-20-17:19:58_cum-df_samples-28539_threads-8-full.csv\"\n",
    "path_to_cum_dstat_df = f\"{home_path}/librispeech-application-cache_2021-10-20-17:19:58_cum-dstat-df_samples-28539_threads-8-full.csv\"\n",
    "\n",
    "analysis = strat_analysis_from_csv(path_to_cum_dstat_df = path_to_cum_dstat_df\n",
    "                                   , path_to_cum_df = path_to_cum_df)\n",
    "cum_dstat_df = analysis.to_cum_dstat_df()\n",
    "cum_df       = analysis.to_cum_df()\n",
    "strategies   = list(cum_df.split_name.unique())\n",
    "print(strategies)\n",
    "print_stats(cum_df = cum_df, original_sps = 1436, caching_sps = 6021)"
   ]
  },
  {
   "cell_type": "code",
   "execution_count": null,
   "metadata": {},
   "outputs": [],
   "source": []
  }
 ],
 "metadata": {
  "kernelspec": {
   "display_name": "Python 3",
   "language": "python",
   "name": "python3"
  },
  "language_info": {
   "codemirror_mode": {
    "name": "ipython",
    "version": 3
   },
   "file_extension": ".py",
   "mimetype": "text/x-python",
   "name": "python",
   "nbconvert_exporter": "python",
   "pygments_lexer": "ipython3",
   "version": "3.7.10"
  }
 },
 "nbformat": 4,
 "nbformat_minor": 2
}
